{
 "cells": [
  {
   "cell_type": "code",
   "execution_count": 2,
   "metadata": {},
   "outputs": [
    {
     "name": "stderr",
     "output_type": "stream",
     "text": [
      "k:\\kj\\Projects\\synopso\\.venv\\Lib\\site-packages\\requests\\__init__.py:86: RequestsDependencyWarning: Unable to find acceptable character detection dependency (chardet or charset_normalizer).\n",
      "  warnings.warn(\n"
     ]
    }
   ],
   "source": [
    "from bs4 import BeautifulSoup\n",
    "import requests"
   ]
  },
  {
   "cell_type": "code",
   "execution_count": 3,
   "metadata": {},
   "outputs": [],
   "source": [
    "url = \"https://huggingface.co/papers\"\n",
    "page = requests.get(url)\n",
    "\n",
    "\n",
    "soup = BeautifulSoup(page.content, 'html')"
   ]
  },
  {
   "cell_type": "code",
   "execution_count": 6,
   "metadata": {},
   "outputs": [
    {
     "name": "stdout",
     "output_type": "stream",
     "text": [
      "21\n",
      "['2410.05258', '2410.02707', '2410.04364', '2410.02675', '2410.05046', '2410.04534', '2410.04734', '2410.05167', '2410.05080', '2410.05243', '2410.04932', '2410.03825', '2410.02884', '2410.04698', '2410.03187', '2410.05262', '2410.05229', '2410.03959', '2410.05255', '2410.03617', '2410.05057']\n"
     ]
    }
   ],
   "source": [
    "arxiv_ids = []\n",
    "\n",
    "articles = soup.find_all('article')\n",
    "print(len(articles))\n",
    "for article in articles:\n",
    "    paper_path = article.find_all('a')[0].get('href')\n",
    "    arxiv_id = paper_path.split('/')[-1]\n",
    "    arxiv_ids.append(arxiv_id)\n",
    "\n",
    "print(arxiv_ids)"
   ]
  },
  {
   "cell_type": "code",
   "execution_count": 7,
   "metadata": {},
   "outputs": [],
   "source": [
    "hf_paper_url = f\"https://huggingface.co{paper_path}\"\n",
    "arxiv_url = f\"https://arxiv.org/abs/{arxiv_id}\""
   ]
  },
  {
   "cell_type": "code",
   "execution_count": 40,
   "metadata": {},
   "outputs": [],
   "source": [
    "def download_pdf(url, filename):\n",
    "    response = requests.get(url)\n",
    "    with open(filename, 'wb') as f:\n",
    "        f.write(response.content)\n",
    "\n",
    "def download_arxiv_pdf(arxiv_id: str):\n",
    "    arxiv_pdf_url = f\"https://arxiv.org/pdf/{arxiv_id}.pdf\"\n",
    "    download_pdf(arxiv_pdf_url, f\"../papers/{arxiv_id}.pdf\")\n",
    "\n",
    "# def get_paper_info_arxiv_api(arxiv_id):\n",
    "#     arxiv_api_url = f\"http://export.arxiv.org/api/query?id_list={arxiv_id}\"\n",
    "#     response = requests.get(arxiv_api_url)\n",
    "#     soup = BeautifulSoup(response.content, 'html')\n",
    "#     title = soup.find('title').text\n",
    "#     authors = soup.find_all('author')\n",
    "#     authors = [author.find('name').text for author in authors]\n",
    "#     return title, authors\n",
    "\n",
    "def get_paper_info(arxiv_id: str):\n",
    "    arxiv_url = f\"https://arxiv.org/abs/{arxiv_id}\"\n",
    "    response = requests.get(arxiv_url)\n",
    "    soup = BeautifulSoup(response.content, 'xml')\n",
    "    title = soup.find('h1', class_='title mathjax').text.replace(\"Title:\", \"\").strip()\n",
    "    authors = soup.find('div', class_='authors').text.replace(\"Authors:\", \"\").strip()\n",
    "    return title, authors"
   ]
  },
  {
   "cell_type": "code",
   "execution_count": 41,
   "metadata": {},
   "outputs": [
    {
     "data": {
      "text/plain": [
       "('Differential Transformer',\n",
       " 'Tianzhu Ye, Li Dong, Yuqing Xia, Yutao Sun, Yi Zhu, Gao Huang, Furu Wei')"
      ]
     },
     "execution_count": 41,
     "metadata": {},
     "output_type": "execute_result"
    }
   ],
   "source": [
    "get_paper_info(arxiv_ids[0])"
   ]
  },
  {
   "cell_type": "code",
   "execution_count": 42,
   "metadata": {},
   "outputs": [],
   "source": [
    "download_arxiv_pdf(arxiv_ids[0])"
   ]
  },
  {
   "cell_type": "code",
   "execution_count": null,
   "metadata": {},
   "outputs": [],
   "source": []
  },
  {
   "cell_type": "code",
   "execution_count": null,
   "metadata": {},
   "outputs": [],
   "source": []
  }
 ],
 "metadata": {
  "kernelspec": {
   "display_name": ".venv",
   "language": "python",
   "name": "python3"
  },
  "language_info": {
   "codemirror_mode": {
    "name": "ipython",
    "version": 3
   },
   "file_extension": ".py",
   "mimetype": "text/x-python",
   "name": "python",
   "nbconvert_exporter": "python",
   "pygments_lexer": "ipython3",
   "version": "3.11.5"
  }
 },
 "nbformat": 4,
 "nbformat_minor": 2
}
